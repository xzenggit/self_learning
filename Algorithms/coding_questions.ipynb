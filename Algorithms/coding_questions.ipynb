{
 "cells": [
  {
   "cell_type": "markdown",
   "metadata": {},
   "source": [
    "## Common Coding Questions\n",
    "\n",
    "* [Leetcode in Python](http://www.cnblogs.com/zuoyuan/tag/leetcode/)\n"
   ]
  },
  {
   "cell_type": "code",
   "execution_count": null,
   "metadata": {
    "collapsed": true
   },
   "outputs": [],
   "source": [
    "# Reverse a single linked list\n",
    "class ListNode():\n",
    "    def __init__(self, item, next=None):\n",
    "        self.item = item\n",
    "        self.next = next\n",
    "\n",
    "def solution_iter(start_node):\n",
    "    curr = start_node\n",
    "    prev = None\n",
    "    next = None\n",
    "    while curr:\n",
    "        next = curr.next\n",
    "        curr.next = prev\n",
    "        prev = curr\n",
    "        curr = next\n",
    "    return prev\n",
    "\n",
    "def solution_recursive(start_node):\n",
    "    if not start_node.next:\n",
    "        return start_node\n",
    "    else:\n",
    "        new_start = solution_recursive(start_node.next)\n",
    "        \n",
    "    start_node.next.next = start_node\n",
    "    start_node.next = None\n",
    "    return new_start"
   ]
  },
  {
   "cell_type": "code",
   "execution_count": null,
   "metadata": {
    "collapsed": true
   },
   "outputs": [],
   "source": []
  },
  {
   "cell_type": "code",
   "execution_count": null,
   "metadata": {
    "collapsed": true
   },
   "outputs": [],
   "source": []
  }
 ],
 "metadata": {
  "kernelspec": {
   "display_name": "Python 2",
   "language": "python",
   "name": "python2"
  },
  "language_info": {
   "codemirror_mode": {
    "name": "ipython",
    "version": 2
   },
   "file_extension": ".py",
   "mimetype": "text/x-python",
   "name": "python",
   "nbconvert_exporter": "python",
   "pygments_lexer": "ipython2",
   "version": "2.7.10"
  }
 },
 "nbformat": 4,
 "nbformat_minor": 0
}
