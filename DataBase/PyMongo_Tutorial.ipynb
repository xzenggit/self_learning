{
 "cells": [
  {
   "cell_type": "markdown",
   "metadata": {},
   "source": [
    "### [PyMongo Tutorial](http://api.mongodb.org/python/current/tutorial.html)"
   ]
  },
  {
   "cell_type": "code",
   "execution_count": 3,
   "metadata": {
    "collapsed": false
   },
   "outputs": [],
   "source": [
    "from pymongo import MongoClient\n",
    "\n",
    "# connect on the default host and post\n",
    "client = MongoClient('localhost', 27017)\n",
    "# or \n",
    "# client = MongoClinet('mongodb://localhost:27017/')\n",
    "\n",
    "# Get a database\n",
    "db = client.test_database\n",
    "# or\n",
    "# db = client['test-databse'] if the name is 'test-database'\n",
    "\n",
    "# Get a collection (a group of documents)\n",
    "# roughly as the equivalent of a table in relational database\n",
    "collection = db.test_collection\n",
    "# or collection = db['test-collection']\n",
    "# Note that, collections and databases in MongoDB is created lazily.\n",
    "# Noe of the above commands have actually performed any operations on\n",
    "# the MongoDb server."
   ]
  },
  {
   "cell_type": "markdown",
   "metadata": {},
   "source": [
    "Data in MongoDB is represent using JSON-stye documents."
   ]
  },
  {
   "cell_type": "code",
   "execution_count": 4,
   "metadata": {
    "collapsed": false
   },
   "outputs": [
    {
     "data": {
      "text/plain": [
       "ObjectId('56f3397725bb2a09d5db9cea')"
      ]
     },
     "execution_count": 4,
     "metadata": {},
     "output_type": "execute_result"
    }
   ],
   "source": [
    "import datetime\n",
    "post = {\"author\": \"Mike\",\n",
    "       \"text\": \"My first blog post!\",\n",
    "       \"tags\": [\"mongodb\", \"python\", \"pymongo\"],\n",
    "       \"date\": datetime.datetime.utcnow()}\n",
    "\n",
    "# Insert a document into a collection\n",
    "posts = db.posts\n",
    "post_id = posts.insert_one(post).inserted_id\n",
    "post_id"
   ]
  },
  {
   "cell_type": "markdown",
   "metadata": {},
   "source": [
    "When a document is inserted, a special key `_id` is automatically added if the document doesn't contain an `_id` key. `_id` is unique across the collection. "
   ]
  },
  {
   "cell_type": "code",
   "execution_count": 5,
   "metadata": {
    "collapsed": false
   },
   "outputs": [
    {
     "data": {
      "text/plain": [
       "[u'posts']"
      ]
     },
     "execution_count": 5,
     "metadata": {},
     "output_type": "execute_result"
    }
   ],
   "source": [
    "db.collection_names(include_system_collections=False)"
   ]
  },
  {
   "cell_type": "code",
   "execution_count": 6,
   "metadata": {
    "collapsed": false
   },
   "outputs": [
    {
     "data": {
      "text/plain": [
       "{u'_id': ObjectId('56f3397725bb2a09d5db9cea'),\n",
       " u'author': u'Mike',\n",
       " u'date': datetime.datetime(2016, 3, 24, 0, 48, 55, 882000),\n",
       " u'tags': [u'mongodb', u'python', u'pymongo'],\n",
       " u'text': u'My first blog post!'}"
      ]
     },
     "execution_count": 6,
     "metadata": {},
     "output_type": "execute_result"
    }
   ],
   "source": [
    "# get certain document\n",
    "posts.find_one()"
   ]
  },
  {
   "cell_type": "code",
   "execution_count": 7,
   "metadata": {
    "collapsed": false
   },
   "outputs": [
    {
     "data": {
      "text/plain": [
       "{u'_id': ObjectId('56f3397725bb2a09d5db9cea'),\n",
       " u'author': u'Mike',\n",
       " u'date': datetime.datetime(2016, 3, 24, 0, 48, 55, 882000),\n",
       " u'tags': [u'mongodb', u'python', u'pymongo'],\n",
       " u'text': u'My first blog post!'}"
      ]
     },
     "execution_count": 7,
     "metadata": {},
     "output_type": "execute_result"
    }
   ],
   "source": [
    "# query specific elements\n",
    "posts.find_one({\"author\": \"Mike\"})"
   ]
  },
  {
   "cell_type": "code",
   "execution_count": 8,
   "metadata": {
    "collapsed": false
   },
   "outputs": [
    {
     "data": {
      "text/plain": [
       "ObjectId('56f3397725bb2a09d5db9cea')"
      ]
     },
     "execution_count": 8,
     "metadata": {},
     "output_type": "execute_result"
    }
   ],
   "source": [
    "# Query by ObjectID\n",
    "post_id"
   ]
  },
  {
   "cell_type": "code",
   "execution_count": 9,
   "metadata": {
    "collapsed": false
   },
   "outputs": [
    {
     "data": {
      "text/plain": [
       "{u'_id': ObjectId('56f3397725bb2a09d5db9cea'),\n",
       " u'author': u'Mike',\n",
       " u'date': datetime.datetime(2016, 3, 24, 0, 48, 55, 882000),\n",
       " u'tags': [u'mongodb', u'python', u'pymongo'],\n",
       " u'text': u'My first blog post!'}"
      ]
     },
     "execution_count": 9,
     "metadata": {},
     "output_type": "execute_result"
    }
   ],
   "source": [
    "posts.find_one({\"_id\": post_id})"
   ]
  },
  {
   "cell_type": "code",
   "execution_count": 10,
   "metadata": {
    "collapsed": true
   },
   "outputs": [],
   "source": [
    "# Note taht an ObjectID is not the same as its string representation\n",
    "post_id_as_str = str(post_id)\n",
    "posts.find_one({\"_id\": post_id_as_str}) # no results"
   ]
  },
  {
   "cell_type": "markdown",
   "metadata": {
    "collapsed": true
   },
   "source": [
    "A common task in web applications is to get an ObjectId from the request URL and find the matching document. It’s necessary in this case to convert the ObjectId from a string before passing it to find_one:"
   ]
  },
  {
   "cell_type": "code",
   "execution_count": 11,
   "metadata": {
    "collapsed": true
   },
   "outputs": [],
   "source": [
    "from bson.objectid import ObjectId\n",
    "\n",
    "# The web framework gets post_id from the URL and passes it as a string\n",
    "def get(post_id):\n",
    "    # Convert from string to ObjectId:\n",
    "    document = client.db.collection.find_one({'_id': ObjectId(post_id)})"
   ]
  },
  {
   "cell_type": "code",
   "execution_count": 12,
   "metadata": {
    "collapsed": false
   },
   "outputs": [
    {
     "data": {
      "text/plain": [
       "[ObjectId('56f33c9925bb2a09d5db9ceb'), ObjectId('56f33c9925bb2a09d5db9cec')]"
      ]
     },
     "execution_count": 12,
     "metadata": {},
     "output_type": "execute_result"
    }
   ],
   "source": [
    "# Bulk insert\n",
    "new_posts = [{\"author\": \"Mike\",\n",
    "             \"text\": \"Another post!\",\n",
    "             \"tags\": [\"bulk\", \"insert\"],\n",
    "             \"date\": datetime.datetime(2009, 11, 12, 11, 14)},\n",
    "            {\"author\": \"Eliot\",\n",
    "            \"title\": \"MongoDB is fun\",\n",
    "            \"text\": \"and pretty easy too!\",\n",
    "            \"date\": datetime.datetime(2009, 11, 10, 10, 45)}]\n",
    "result = posts.insert_many(new_posts)\n",
    "result.inserted_ids"
   ]
  },
  {
   "cell_type": "code",
   "execution_count": 14,
   "metadata": {
    "collapsed": false
   },
   "outputs": [
    {
     "name": "stdout",
     "output_type": "stream",
     "text": [
      "{u'date': datetime.datetime(2016, 3, 24, 0, 48, 55, 882000), u'text': u'My first blog post!', u'_id': ObjectId('56f3397725bb2a09d5db9cea'), u'author': u'Mike', u'tags': [u'mongodb', u'python', u'pymongo']}\n",
      "{u'date': datetime.datetime(2009, 11, 12, 11, 14), u'text': u'Another post!', u'_id': ObjectId('56f33c9925bb2a09d5db9ceb'), u'author': u'Mike', u'tags': [u'bulk', u'insert']}\n",
      "{u'date': datetime.datetime(2009, 11, 10, 10, 45), u'text': u'and pretty easy too!', u'_id': ObjectId('56f33c9925bb2a09d5db9cec'), u'author': u'Eliot', u'title': u'MongoDB is fun'}\n"
     ]
    }
   ],
   "source": [
    "# Query more than one document\n",
    "for post in posts.find():\n",
    "    print post"
   ]
  },
  {
   "cell_type": "code",
   "execution_count": 15,
   "metadata": {
    "collapsed": false
   },
   "outputs": [
    {
     "name": "stdout",
     "output_type": "stream",
     "text": [
      "{u'date': datetime.datetime(2016, 3, 24, 0, 48, 55, 882000), u'text': u'My first blog post!', u'_id': ObjectId('56f3397725bb2a09d5db9cea'), u'author': u'Mike', u'tags': [u'mongodb', u'python', u'pymongo']}\n",
      "{u'date': datetime.datetime(2009, 11, 12, 11, 14), u'text': u'Another post!', u'_id': ObjectId('56f33c9925bb2a09d5db9ceb'), u'author': u'Mike', u'tags': [u'bulk', u'insert']}\n"
     ]
    }
   ],
   "source": [
    "for post in posts.find({\"author\": \"Mike\"}):\n",
    "    print post"
   ]
  },
  {
   "cell_type": "code",
   "execution_count": 16,
   "metadata": {
    "collapsed": false
   },
   "outputs": [
    {
     "data": {
      "text/plain": [
       "3"
      ]
     },
     "execution_count": 16,
     "metadata": {},
     "output_type": "execute_result"
    }
   ],
   "source": [
    "posts.count()"
   ]
  },
  {
   "cell_type": "code",
   "execution_count": 17,
   "metadata": {
    "collapsed": false
   },
   "outputs": [
    {
     "data": {
      "text/plain": [
       "2"
      ]
     },
     "execution_count": 17,
     "metadata": {},
     "output_type": "execute_result"
    }
   ],
   "source": [
    "posts.find({\"author\": \"Mike\"}).count()"
   ]
  },
  {
   "cell_type": "code",
   "execution_count": 18,
   "metadata": {
    "collapsed": false
   },
   "outputs": [
    {
     "name": "stdout",
     "output_type": "stream",
     "text": [
      "{u'date': datetime.datetime(2009, 11, 10, 10, 45), u'text': u'and pretty easy too!', u'_id': ObjectId('56f33c9925bb2a09d5db9cec'), u'author': u'Eliot', u'title': u'MongoDB is fun'}\n",
      "{u'date': datetime.datetime(2009, 11, 12, 11, 14), u'text': u'Another post!', u'_id': ObjectId('56f33c9925bb2a09d5db9ceb'), u'author': u'Mike', u'tags': [u'bulk', u'insert']}\n"
     ]
    }
   ],
   "source": [
    "# Range Queries\n",
    "d = datetime.datetime(2009, 11, 12, 12)\n",
    "for post in posts.find({\"date\": {\"$lt\": d}}).sort(\"author\"):\n",
    "    print post"
   ]
  },
  {
   "cell_type": "code",
   "execution_count": 20,
   "metadata": {
    "collapsed": false
   },
   "outputs": [
    {
     "data": {
      "text/plain": [
       "[u'user_id_1', u'_id_']"
      ]
     },
     "execution_count": 20,
     "metadata": {},
     "output_type": "execute_result"
    }
   ],
   "source": [
    "# Indexing\n",
    "import pymongo\n",
    "result = db.profiles.create_index([(\"user_id\", pymongo.ASCENDING)],\n",
    "                                 unique=True)\n",
    "list(db.profiles.index_information())"
   ]
  },
  {
   "cell_type": "markdown",
   "metadata": {},
   "source": [
    "Notice that we have two indexes now: one is the index on `_id` that MongoDB creates automatically, and the other is the index on `user_id` we just created."
   ]
  },
  {
   "cell_type": "code",
   "execution_count": 21,
   "metadata": {
    "collapsed": true
   },
   "outputs": [],
   "source": [
    "# set up some user profiles\n",
    "user_profiles = [\n",
    "    {'user_id': 211, 'name': 'Luke'},\n",
    "    {'user_id': 212, 'name': 'Ziltoid'}]\n",
    "result = db.profiles.insert_many(user_profiles)"
   ]
  }
 ],
 "metadata": {
  "kernelspec": {
   "display_name": "Python 2",
   "language": "python",
   "name": "python2"
  },
  "language_info": {
   "codemirror_mode": {
    "name": "ipython",
    "version": 2
   },
   "file_extension": ".py",
   "mimetype": "text/x-python",
   "name": "python",
   "nbconvert_exporter": "python",
   "pygments_lexer": "ipython2",
   "version": "2.7.10"
  }
 },
 "nbformat": 4,
 "nbformat_minor": 0
}
