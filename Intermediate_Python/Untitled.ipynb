{
  "cells": [
    {
      "cell_type": "markdown",
      "source": [
        "## Intermediate Python\n",
        "\n",
        "Foundations\n",
        "* Review core Pythonic design, including object-oriented systems thinking\n",
        "* Write consistent, scalable code using the PEP8 style guide and the Pycodestyle linter\n",
        "* Create well-documented code using Docstrings, and Doctests\n",
        "\n",
        "Building Modules\n",
        "* Learn how to create Python modules\n",
        "* Expand our understanding of OOP to include abstraction and inheritance\n",
        "* Practice critical design patterns for larger code bases\n",
        "\n",
        "Using Libraries\n",
        "* Explore community-driven libraries using PIP\n",
        "* Implement the strategy object design pattern to ensure scalable code\n",
        "* Learn common libraries you’ll use in data science roles\n",
        "\n",
        "Python in Systems\n",
        "* Package our application into a command line tool\n",
        "* Explore advanced CLI tools in Python using argparse\n",
        "* Execute other CLI tools in Python to expand capabilities using subprocess\n",
        "\n",
        "Python in Web\n",
        "* Cover web fundamentals for full-stack development with Python\n",
        "* Consume web services in python to expand capabilities using requests\n",
        "* Package our application into a web application using Flask\n",
        "\n",
        "Doctest is a simple module that allows you to declare expected outputs for specific inputs of a method directly in a docstring comment. For example:\n",
        "```python\n",
        "def add(a, b):\n",
        "    \"\"\"Return the sum of a and b\n",
        "\n",
        "    >>> add(1, 1)\n",
        "    2\n",
        "    \"\"\"\n",
        "\n",
        "return a+b\n",
        "\n",
        "if __name__ == \"__main__\":\n",
        "    import doctest\n",
        "    doctest.testmod()\n",
        "```\n",
        "\n",
        "### Building Modules\n",
        "\n",
        "**When to Override**\n",
        "As you practice inheritance and build more complex systems of classes, you'll find the need to redefine methods and functionality. This redefinition is known as overriding methods. Ultimately, it is as simple as re-writing a method body. You may need to override a method when:\n",
        "\n",
        "* You are realizing an abstract class\n",
        "* You are extending a class and the method definition is now dependent on new information in the child class\n",
        "* You want to ensure an object fully realizes the base object's interface (i.e. init, repr, str)\n",
        "\n",
        "Keep in mind, you can always access the parent method's implementation of a specific method using the super() method. This will allow you to extend a method without repeating code. \n",
        "```python\n",
        "class BaseClass():\n",
        "    def simple_method():\n",
        "        return 'hello'\n",
        "\n",
        "class SimpleClass(BaseClass):\n",
        "    def simple_method():\n",
        "        return super().simple_method() + ' world'\n",
        "```\n",
        "\n",
        "Export all packages in current virtual environment\n",
        "`pip freeze > requirements.txt`\n",
        "Install required packages\n",
        "`pip install -r requirements.txt`\n",
        "\n",
        "* Explore advanced CLI tools in Python using argparse\n",
        "* Execute other CLI tools in Python to expand capabilities using subprocess\n",
        "\n",
        "### Python for Web\n",
        "\n",
        "Two types of request:\n",
        "* GET\n",
        "* POST\n",
        "\n"
      ],
      "metadata": {}
    },
    {
      "cell_type": "markdown",
      "source": [],
      "metadata": {}
    }
  ],
  "metadata": {
    "kernel_info": {
      "name": "python3"
    },
    "language_info": {
      "name": "python3"
    },
    "kernelspec": {
      "argv": [
        "/miniconda3/bin/python",
        "-m",
        "ipykernel_launcher",
        "-f",
        "{connection_file}"
      ],
      "display_name": "Python 3",
      "language": "python",
      "name": "python3"
    },
    "nteract": {
      "version": "0.15.0"
    }
  },
  "nbformat": 4,
  "nbformat_minor": 0
}