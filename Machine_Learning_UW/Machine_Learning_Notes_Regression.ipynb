{
 "cells": [
  {
   "cell_type": "markdown",
   "metadata": {},
   "source": [
    "## Notes for Machine Learing (Regression) from [Coursera](https://www.coursera.org/specializations/machine-learning)\n",
    "\n",
    "###  Regression\n",
    "#### 1. Simple Linear Regression\n",
    "<img src='slm01.png' height=\"50%\" width=\"50%\">\n",
    "<img src='slm02.png' height=\"50%\" width=\"50%\">\n",
    "<img src='slm03.png' height=\"70%\" width=\"70%\">\n",
    "<img src='slm04.png' height=\"70%\" width=\"70%\">\n",
    "<img src='slm05.png' height=\"70%\" width=\"70%\">\n",
    "#### 2. Multiple Regression\n",
    "<img src='mlm01.png' height=\"50%\" width=\"50%\">\n",
    "<img src='mlm02.png' height=\"50%\" width=\"50%\">\n",
    "<img src='mlm03.png' height=\"70%\" width=\"70%\">\n",
    "<img src='mlm04.png' height=\"70%\" width=\"70%\">\n",
    "<img src='mlm05.png' height=\"50%\" width=\"50%\">\n",
    "<img src='mlm06.png' height=\"50%\" width=\"50%\">\n",
    "<img src='mlm07.png' height=\"50%\" width=\"50%\">\n",
    "<img src='mlm08.png' height=\"50%\" width=\"50%\">\n",
    "#### 3 Ridge Regression\n",
    "<img src='ridge01.png' height=\"50%\" width=\"50%\">\n",
    "<img src='ridge02.png' height=\"50%\" width=\"50%\">\n",
    "<img src='ridge03.png' height=\"70%\" width=\"70%\">\n",
    "<img src='ridge04.png' height=\"70%\" width=\"70%\">\n",
    "<img src='ridge05.png' height=\"70%\" width=\"70%\">\n",
    "<img src='ridge06.png' height=\"50%\" width=\"50%\">\n",
    "<img src='ridge07.png' height=\"50%\" width=\"50%\">\n",
    "<img src='ridge08.png' height=\"50%\" width=\"50%\">\n",
    "<img src='ridge09.png' height=\"50%\" width=\"50%\">\n",
    "<img src='ridge11.png' height=\"50%\" width=\"50%\">\n",
    "<img src='ridge12.png' height=\"50%\" width=\"50%\">\n",
    "#### 4 Lasso Regression\n",
    "<img src='lasso01.png' height=\"50%\" width=\"50%\">\n",
    "<img src='lasso02.png' height=\"50%\" width=\"50%\">\n",
    "<img src='lasso03.png' height=\"50%\" width=\"50%\">\n",
    "<img src='lasso04.png' height=\"50%\" width=\"50%\">\n",
    "<img src='lasso05.png' height=\"70%\" width=\"70%\">\n",
    "<img src='lasso06.png' height=\"70%\" width=\"70%\">\n",
    "<img src='lasso07.png' height=\"50%\" width=\"50%\">\n",
    "<img src='lasso08.png' height=\"50%\" width=\"50%\">\n",
    "<img src='lasso09.png' height=\"50%\" width=\"50%\">\n",
    "<img src='lasso10.png' height=\"70%\" width=\"70%\">\n",
    "<img src='lasso11.png' height=\"70%\" width=\"70%\">\n",
    "<img src='lasso12.png' height=\"70%\" width=\"70%\">\n",
    "#### 5 Nearest Neighbor and Kernel Regression\n",
    "<img src='knn01.png' height=\"50%\" width=\"50%\">\n",
    "<img src='knn02.png' height=\"50%\" width=\"50%\">\n",
    "<img src='knn03.png' height=\"70%\" width=\"70%\">"
   ]
  }
 ],
 "metadata": {
  "kernelspec": {
   "display_name": "Python 2",
   "language": "python",
   "name": "python2"
  },
  "language_info": {
   "codemirror_mode": {
    "name": "ipython",
    "version": 2
   },
   "file_extension": ".py",
   "mimetype": "text/x-python",
   "name": "python",
   "nbconvert_exporter": "python",
   "pygments_lexer": "ipython2",
   "version": "2.7.10"
  }
 },
 "nbformat": 4,
 "nbformat_minor": 0
}
