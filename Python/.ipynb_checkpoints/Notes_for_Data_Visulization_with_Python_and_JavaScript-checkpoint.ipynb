{
 "cells": [
  {
   "cell_type": "markdown",
   "metadata": {},
   "source": [
    "# Notes for [Data Visualization with Python and JavaScript](https://www.amazon.com/Data-Visualization-Python-JavaScript-Transform/dp/1491920513)\n",
    "\n",
    "\n",
    "## Ch1. The datavis toolchain\n",
    "\n",
    "* Scaping data with Scrapy\n",
    "* Cleaning data with Pandas\n",
    "* Exploring data with Pandas and Matplotlib\n",
    "* Delivering data with Flask\n",
    "* Transforming data into interative visulizaitons with D3\n",
    "\n",
    "## Ch2. Bridge between Python and JavaScript\n",
    "\n",
    "* [JavaScript](http://www.w3schools.com/js/)\n",
    "* [Python](http://www.astro.ufl.edu/~warner/prog/python.html)\n",
    "\n",
    "## Ch3. Reading and writing data in Python\n",
    "\n",
    "* [Pandas](http://pandas.pydata.org/pandas-docs/stable/10min.html)\n",
    "* [MongoDB](http://api.mongodb.com/python/current/tutorial.html)"
   ]
  },
  {
   "cell_type": "code",
   "execution_count": null,
   "metadata": {
    "collapsed": true
   },
   "outputs": [],
   "source": [
    "from pymongo import MongoClient\n",
    "\n",
    "client = MongoClient()\n",
    "db = client.nobel_prize\n",
    "coll = db.winners"
   ]
  },
  {
   "cell_type": "code",
   "execution_count": 1,
   "metadata": {
    "collapsed": false
   },
   "outputs": [
    {
     "name": "stdout",
     "output_type": "stream",
     "text": [
      "01:02:03\n",
      "hour  : 1\n",
      "minute: 2\n",
      "second: 3\n",
      "microsecond: 0\n",
      "tzinfo: None\n"
     ]
    }
   ],
   "source": [
    "import datetime\n",
    "\n",
    "t = datetime.time(1, 2, 3)\n",
    "print t\n",
    "print 'hour  :', t.hour\n",
    "print 'minute:', t.minute\n",
    "print 'second:', t.second\n",
    "print 'microsecond:', t.microsecond\n",
    "print 'tzinfo:', t.tzinfo"
   ]
  },
  {
   "cell_type": "code",
   "execution_count": 2,
   "metadata": {
    "collapsed": false
   },
   "outputs": [
    {
     "name": "stdout",
     "output_type": "stream",
     "text": [
      "2016-11-12\n",
      "ctime: Sat Nov 12 00:00:00 2016\n",
      "tuple: time.struct_time(tm_year=2016, tm_mon=11, tm_mday=12, tm_hour=0, tm_min=0, tm_sec=0, tm_wday=5, tm_yday=317, tm_isdst=-1)\n",
      "ordinal: 736280\n",
      "Year: 2016\n",
      "Mon : 11\n",
      "Day : 12\n"
     ]
    }
   ],
   "source": [
    "import datetime\n",
    "\n",
    "today = datetime.date.today()\n",
    "print today\n",
    "print 'ctime:', today.ctime()\n",
    "print 'tuple:', today.timetuple()\n",
    "print 'ordinal:', today.toordinal()\n",
    "print 'Year:', today.year\n",
    "print 'Mon :', today.month\n",
    "print 'Day :', today.day"
   ]
  },
  {
   "cell_type": "code",
   "execution_count": 3,
   "metadata": {
    "collapsed": false
   },
   "outputs": [
    {
     "name": "stdout",
     "output_type": "stream",
     "text": [
      "d1: 2008-03-12\n"
     ]
    }
   ],
   "source": [
    "import datetime\n",
    "\n",
    "d1 = datetime.date(2008, 3, 12)\n",
    "print 'd1:', d1"
   ]
  },
  {
   "cell_type": "code",
   "execution_count": 4,
   "metadata": {
    "collapsed": false
   },
   "outputs": [
    {
     "name": "stdout",
     "output_type": "stream",
     "text": [
      "microseconds: 0:00:00.000001\n",
      "milliseconds: 0:00:00.001000\n",
      "seconds     : 0:00:01\n",
      "minutes     : 0:01:00\n",
      "hours       : 1:00:00\n",
      "days        : 1 day, 0:00:00\n",
      "weeks       : 7 days, 0:00:00\n"
     ]
    }
   ],
   "source": [
    "import datetime\n",
    "\n",
    "print \"microseconds:\", datetime.timedelta(microseconds=1)\n",
    "print \"milliseconds:\", datetime.timedelta(milliseconds=1)\n",
    "print \"seconds     :\", datetime.timedelta(seconds=1)\n",
    "print \"minutes     :\", datetime.timedelta(minutes=1)\n",
    "print \"hours       :\", datetime.timedelta(hours=1)\n",
    "print \"days        :\", datetime.timedelta(days=1)\n",
    "print \"weeks       :\", datetime.timedelta(weeks=1)"
   ]
  },
  {
   "cell_type": "code",
   "execution_count": 5,
   "metadata": {
    "collapsed": false
   },
   "outputs": [
    {
     "name": "stdout",
     "output_type": "stream",
     "text": [
      "Today    : 2016-11-12\n",
      "One day  : 1 day, 0:00:00\n",
      "Yesterday: 2016-11-11\n",
      "Tomorrow : 2016-11-13\n",
      "tomorrow - yesterday: 2 days, 0:00:00\n",
      "yesterday - tomorrow: -2 days, 0:00:00\n"
     ]
    }
   ],
   "source": [
    "import datetime\n",
    "\n",
    "today = datetime.date.today()\n",
    "print 'Today    :', today\n",
    "\n",
    "one_day = datetime.timedelta(days=1)\n",
    "print 'One day  :', one_day\n",
    "\n",
    "yesterday = today - one_day\n",
    "print 'Yesterday:', yesterday\n",
    "\n",
    "tomorrow = today + one_day\n",
    "print 'Tomorrow :', tomorrow\n",
    "\n",
    "print 'tomorrow - yesterday:', tomorrow - yesterday\n",
    "print 'yesterday - tomorrow:', yesterday - tomorrow"
   ]
  },
  {
   "cell_type": "code",
   "execution_count": 6,
   "metadata": {
    "collapsed": false
   },
   "outputs": [
    {
     "name": "stdout",
     "output_type": "stream",
     "text": [
      "ISO     : 2016-11-12 09:05:41.040250\n",
      "strftime: Sat Nov 12 09:05:41 2016\n",
      "strptime: Sat Nov 12 09:05:41 2016\n"
     ]
    }
   ],
   "source": [
    "import datetime\n",
    "\n",
    "format = \"%a %b %d %H:%M:%S %Y\"\n",
    "\n",
    "today = datetime.datetime.today()\n",
    "print 'ISO     :', today\n",
    "\n",
    "s = today.strftime(format)\n",
    "print 'strftime:', s\n",
    "\n",
    "d = datetime.datetime.strptime(s, format)\n",
    "print 'strptime:', d.strftime(format)"
   ]
  },
  {
   "cell_type": "markdown",
   "metadata": {},
   "source": [
    "## Ch4. Webdev 101\n",
    "\n",
    "`python -m SimpleHTTPServer` opens a simple local web server.\n",
    "\n",
    "## Ch5. Getting data off the web with Python\n",
    "\n",
    "* [Scrapy](https://scrapy.org)\n",
    "* [Beautifulsoup](https://www.crummy.com/software/BeautifulSoup/)\n",
    "\n",
    "## Ch6. Heavyweight Scraping with Scrapy\n",
    "\n",
    "Where BeautifulSoup is a very handy little penknife for fast and dirty scraping, Scrapy is a Python library that can do large-scale data scrapes with ease. "
   ]
  },
  {
   "cell_type": "code",
   "execution_count": 8,
   "metadata": {
    "collapsed": false
   },
   "outputs": [],
   "source": [
    "import requests\n",
    "\n",
    "response = requests.get(\"https://en.wikipedia.org/wiki/Nobel_Pirze\")"
   ]
  },
  {
   "cell_type": "markdown",
   "metadata": {
    "collapsed": true
   },
   "source": [
    "## Ch7. Numpy, Pandas, and Matplotlib\n",
    "\n",
    "* [Numpy for Matlab users](http://mathesaurus.sourceforge.net/matlab-numpy.html)\n",
    "* [Scientific Python Cheat Sheet](https://ipgp.github.io/scientific_python_cheat_sheet/)\n",
    "* [Pandas and Matplotlib Cheat Sheet](https://drive.google.com/drive/u/0/folders/0ByIrJAE4KMTtaGhRcXkxNHhmY2M)\n",
    "\n",
    "## Ch8. Flask and D3\n",
    "\n",
    "* [Flask tutorial](http://flask.pocoo.org/docs/0.11/tutorial/)\n",
    "* [D3 tutorial](https://github.com/d3/d3/wiki/Tutorials)\n",
    "* [Inbook projects in Github](https://github.com/Kyrand/dataviz-with-python-and-js)"
   ]
  }
 ],
 "metadata": {
  "kernelspec": {
   "display_name": "Python 2",
   "language": "python",
   "name": "python2"
  },
  "language_info": {
   "codemirror_mode": {
    "name": "ipython",
    "version": 2
   },
   "file_extension": ".py",
   "mimetype": "text/x-python",
   "name": "python",
   "nbconvert_exporter": "python",
   "pygments_lexer": "ipython2",
   "version": "2.7.10"
  }
 },
 "nbformat": 4,
 "nbformat_minor": 0
}
