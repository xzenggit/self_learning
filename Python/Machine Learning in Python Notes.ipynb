{
 "cells": [
  {
   "cell_type": "markdown",
   "metadata": {},
   "source": [
    "## Notes for [Machine Learning in Python](http://www.amazon.com/Machine-Learning-Python-Techniques-Predictive/dp/1118961749)\n",
    "\n",
    "### 1. Understand the problem by understanding the data\n",
    "* Exploratory data analysis\n",
    "    * Data summary\n",
    "    * Missing data\n",
    "    * Data plot (normalized)\n",
    "    * Correlation plot (heat map)\n",
    "    \n",
    "### 2. Predictive Modeling\n",
    "* Feature selection and engineering\n",
    "* Choose proper method\n",
    "* Train and test\n",
    "* Messure the performance (confusion matrix, MSE, MAE et al.)\n",
    "* Model selection\n",
    "    * Forward stepwise\n",
    "    * Backward stepwise\n",
    "    * Ridge\n",
    "    * Larsso\n",
    "\n",
    "### 3. Ensemble Methods\n",
    "* Random Forest\n",
    "* Boosting\n",
    "* Bagging\n",
    "\n",
    "### 4. [Scikit-learn Cookbook](http://www.amazon.com/Scikit-Learn-Cookbook-Trent-Hauck/dp/1783989483/ref=sr_1_1?ie=UTF8&qid=1450218817&sr=8-1&keywords=scikit-learn)"
   ]
  },
  {
   "cell_type": "markdown",
   "metadata": {},
   "source": []
  },
  {
   "cell_type": "code",
   "execution_count": null,
   "metadata": {
    "collapsed": true
   },
   "outputs": [],
   "source": []
  },
  {
   "cell_type": "code",
   "execution_count": null,
   "metadata": {
    "collapsed": true
   },
   "outputs": [],
   "source": []
  },
  {
   "cell_type": "code",
   "execution_count": null,
   "metadata": {
    "collapsed": true
   },
   "outputs": [],
   "source": []
  }
 ],
 "metadata": {
  "kernelspec": {
   "display_name": "Python 2",
   "language": "python",
   "name": "python2"
  },
  "language_info": {
   "codemirror_mode": {
    "name": "ipython",
    "version": 2
   },
   "file_extension": ".py",
   "mimetype": "text/x-python",
   "name": "python",
   "nbconvert_exporter": "python",
   "pygments_lexer": "ipython2",
   "version": "2.7.10"
  }
 },
 "nbformat": 4,
 "nbformat_minor": 0
}
