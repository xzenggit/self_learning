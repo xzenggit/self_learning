{
 "cells": [
  {
   "cell_type": "markdown",
   "metadata": {},
   "source": [
    "## Notes for [Machine Learning in Python](http://www.amazon.com/Machine-Learning-Python-Techniques-Predictive/dp/1118961749)\n",
    "\n",
    "### 1. Understand the problem by understanding the data\n",
    "* Exploratory data analysis\n",
    "    * Data summary\n",
    "    * Missing data\n",
    "    * Data plot (normalized)\n",
    "    * Correlation plot (heat map)\n",
    "    \n",
    "### 2. Predictive Modeling\n",
    "* Feature selection and engineering\n",
    "* Choose proper method\n",
    "* Train and test split\n",
    "* Messure the performance (confusion matrix, MSE, MAE et al.)\n",
    "* Model selection\n",
    "    * Forward stepwise\n",
    "    * Backward stepwise\n",
    "    * Ridge\n",
    "    * Larsso\n",
    " \n",
    "ROC curve yields a single plot that summarizes all of these different contingency tables. The ROC curve plots the true positive rate (abbreviated TPR) versus the false positive rate (FPR). TPR is the proportion of positive examples that are correctly classified as positive. FPR is the number of FPs relative to the total number of actual negatives. \n",
    "\n",
    "The closer that a classifier can come to hitting the upper-left corner, the better it is. If the ROC curve drops significantly below the diagonal line, it usually means that the data scientist has gotten a sign switched somewhere and should examine his code carefully.\n",
    "\n",
    "The area under the curve (AUC)is the area under the ROC curve. A perfect classifier has an AUC of 1.0, and random guessing has an AUC of 0.5.\n",
    "\n",
    "### 3. Ensemble Methods\n",
    "\n",
    "* Boosting: Gradient boosting develops an ensemble of treebased models by training each of the trees in the ensemble on different labels and then combining the trees. For a regression problem where the objective is to minimize MSE, each successive tree is trained on the errors left over by the collection of earlier trees. The basic difference in principle between bagging and boosting is that boosting constantly monitors its cumulative error and uses that residual for subsequent training.\n",
    "* Bagging: A (nonparametric) bootstrap sample is a random selection of several elements from the data set with replacement (that is, a bootstrap sample can contain multiple copies of a row from the original data). Bootstrap aggregation takes a number of bootstrap samples from the training data set and then trains a base learner on each of these samples. The resulting models are averaged in regression problems. For classification problems, the models can either be averaged or probabilities can be developed based on the percentages of different classes.\n",
    "* Random Forest: Bagging plus random attribute subsets.\n",
    "\n",
    "## Notes for [Scikit-learn Cookbook](http://www.amazon.com/Scikit-Learn-Cookbook-Trent-Hauck/dp/1783989483/ref=sr_1_1?ie=UTF8&qid=1450218817&sr=8-1&keywords=scikit-learn)\n",
    "\n",
    "### Ch1. Premodel workflow\n",
    "\n",
    "Two preprocessing scalers:\n",
    "\n",
    "* StandardScaler(): minus mean, and then divided by std\n",
    "* MinMaxScaler(): scale the data within certain range, `MinMaxScaler(feature_range=(-3.14, 3.14))`\n",
    "* normalize(): scale each sample to have a length of 1, useful for similarity calculation"
   ]
  },
  {
   "cell_type": "code",
   "execution_count": 5,
   "metadata": {
    "collapsed": false
   },
   "outputs": [
    {
     "name": "stderr",
     "output_type": "stream",
     "text": [
      "/Users/yanshi/anaconda/lib/python2.7/site-packages/sklearn/utils/validation.py:386: DeprecationWarning: Passing 1d arrays as data is deprecated in 0.17 and willraise ValueError in 0.19. Reshape your data either using X.reshape(-1, 1) if your data has a single feature or X.reshape(1, -1) if it contains a single sample.\n",
      "  DeprecationWarning)\n"
     ]
    },
    {
     "data": {
      "text/plain": [
       "array([[ 1.,  0.,  1.,  1.,  1.]])"
      ]
     },
     "execution_count": 5,
     "metadata": {},
     "output_type": "execute_result"
    }
   ],
   "source": [
    "# Load Boston data\n",
    "from sklearn import datasets\n",
    "from sklearn import preprocessing\n",
    "import numpy as np\n",
    "\n",
    "boston = datasets.load_boston()\n",
    "# Binarize data: the value is greater than the mean, produce 1; if less, produce 0\n",
    "new_target = preprocessing.binarize(boston.target, threshold=boston.target.mean())\n",
    "new_target[:,:5]"
   ]
  },
  {
   "cell_type": "code",
   "execution_count": 6,
   "metadata": {
    "collapsed": false
   },
   "outputs": [
    {
     "name": "stderr",
     "output_type": "stream",
     "text": [
      "/Users/yanshi/anaconda/lib/python2.7/site-packages/sklearn/utils/validation.py:386: DeprecationWarning: Passing 1d arrays as data is deprecated in 0.17 and willraise ValueError in 0.19. Reshape your data either using X.reshape(-1, 1) if your data has a single feature or X.reshape(1, -1) if it contains a single sample.\n",
      "  DeprecationWarning)\n",
      "/Users/yanshi/anaconda/lib/python2.7/site-packages/sklearn/utils/validation.py:386: DeprecationWarning: Passing 1d arrays as data is deprecated in 0.17 and willraise ValueError in 0.19. Reshape your data either using X.reshape(-1, 1) if your data has a single feature or X.reshape(1, -1) if it contains a single sample.\n",
      "  DeprecationWarning)\n"
     ]
    },
    {
     "data": {
      "text/plain": [
       "array([[ 1.,  0.,  1.,  1.,  1.]])"
      ]
     },
     "execution_count": 6,
     "metadata": {},
     "output_type": "execute_result"
    }
   ],
   "source": [
    "# Or we can use Binarizer class\n",
    "bin = preprocessing.Binarizer(boston.target.mean())\n",
    "new_target = bin.fit_transform(boston.target)\n",
    "new_target[:, :5]"
   ]
  },
  {
   "cell_type": "markdown",
   "metadata": {
    "collapsed": true
   },
   "source": [
    "Change category variables into numbers"
   ]
  },
  {
   "cell_type": "code",
   "execution_count": 10,
   "metadata": {
    "collapsed": false
   },
   "outputs": [
    {
     "data": {
      "text/plain": [
       "array([[ 5.1,  3.5,  1.4,  0.2,  0. ],\n",
       "       [ 4.9,  3. ,  1.4,  0.2,  0. ],\n",
       "       [ 4.7,  3.2,  1.3,  0.2,  0. ],\n",
       "       [ 4.6,  3.1,  1.5,  0.2,  0. ],\n",
       "       [ 5. ,  3.6,  1.4,  0.2,  0. ]])"
      ]
     },
     "execution_count": 10,
     "metadata": {},
     "output_type": "execute_result"
    }
   ],
   "source": [
    "from sklearn import datasets\n",
    "import numpy as np\n",
    "from sklearn import preprocessing\n",
    "\n",
    "iris = datasets.load_iris()\n",
    "X = iris.data\n",
    "y = iris.target\n",
    "d = np.column_stack((X, y))\n",
    "d[0:5, :]"
   ]
  },
  {
   "cell_type": "code",
   "execution_count": 11,
   "metadata": {
    "collapsed": false
   },
   "outputs": [
    {
     "data": {
      "text/plain": [
       "array([[ 1.,  0.,  0.],\n",
       "       [ 1.,  0.,  0.],\n",
       "       [ 1.,  0.,  0.],\n",
       "       [ 1.,  0.,  0.],\n",
       "       [ 1.,  0.,  0.]])"
      ]
     },
     "execution_count": 11,
     "metadata": {},
     "output_type": "execute_result"
    }
   ],
   "source": [
    "# Change [1, 2, 3] form to [1, 0, 0; 0, 1, 0; 0, 0, 1] format\n",
    "text_encoder = preprocessing.OneHotEncoder()\n",
    "text_encoder.fit_transform(d[:, -1:]).toarray()[:5]"
   ]
  },
  {
   "cell_type": "code",
   "execution_count": 12,
   "metadata": {
    "collapsed": false
   },
   "outputs": [
    {
     "data": {
      "text/plain": [
       "array([[ 1.],\n",
       "       [ 1.],\n",
       "       [ 1.]])"
      ]
     },
     "execution_count": 12,
     "metadata": {},
     "output_type": "execute_result"
    }
   ],
   "source": [
    "np.ones((3, 1))"
   ]
  },
  {
   "cell_type": "code",
   "execution_count": 13,
   "metadata": {
    "collapsed": false
   },
   "outputs": [
    {
     "data": {
      "text/plain": [
       "array([[ 0.,  1.,  0.],\n",
       "       [ 0.,  1.,  0.],\n",
       "       [ 0.,  1.,  0.]])"
      ]
     },
     "execution_count": 13,
     "metadata": {},
     "output_type": "execute_result"
    }
   ],
   "source": [
    "# text_encoder is now a standard scikit-learn model.\n",
    "text_encoder.transform(np.ones((3, 1))).toarray()"
   ]
  },
  {
   "cell_type": "code",
   "execution_count": 17,
   "metadata": {
    "collapsed": false
   },
   "outputs": [
    {
     "data": {
      "text/plain": [
       "[{'species': 'setosa'},\n",
       " {'species': 'setosa'},\n",
       " {'species': 'setosa'},\n",
       " {'species': 'setosa'},\n",
       " {'species': 'setosa'}]"
      ]
     },
     "execution_count": 17,
     "metadata": {},
     "output_type": "execute_result"
    }
   ],
   "source": [
    "# Another way of transforming features into vectors\n",
    "from sklearn.feature_extraction import DictVectorizer\n",
    "\n",
    "dv = DictVectorizer()\n",
    "my_dict = [{'species': iris.target_names[i]} for i in y]\n",
    "my_dict[0:5]"
   ]
  },
  {
   "cell_type": "code",
   "execution_count": 18,
   "metadata": {
    "collapsed": false
   },
   "outputs": [
    {
     "data": {
      "text/plain": [
       "array([[ 1.,  0.,  0.],\n",
       "       [ 1.,  0.,  0.],\n",
       "       [ 1.,  0.,  0.],\n",
       "       [ 1.,  0.,  0.],\n",
       "       [ 1.,  0.,  0.]])"
      ]
     },
     "execution_count": 18,
     "metadata": {},
     "output_type": "execute_result"
    }
   ],
   "source": [
    "dv.fit_transform(my_dict).toarray()[:5]"
   ]
  },
  {
   "cell_type": "code",
   "execution_count": 22,
   "metadata": {
    "collapsed": false
   },
   "outputs": [
    {
     "name": "stdout",
     "output_type": "stream",
     "text": [
      "(150, 3)\n",
      "[0 1 2]\n"
     ]
    }
   ],
   "source": [
    "# LabelBinarizer is a combination of thresholding and working with categorical varables.\n",
    "from sklearn import datasets as d\n",
    "from sklearn.preprocessing import LabelBinarizer\n",
    "\n",
    "iris = d.load_iris()\n",
    "target = iris.target\n",
    "label_binarizer = LabelBinarizer()\n",
    "new_target = label_binarizer.fit_transform(target)\n",
    "print new_target.shape\n",
    "print label_binarizer.classes_"
   ]
  },
  {
   "cell_type": "markdown",
   "metadata": {},
   "source": [
    "### Handle missing values\n",
    "\n"
   ]
  },
  {
   "cell_type": "code",
   "execution_count": 24,
   "metadata": {
    "collapsed": false
   },
   "outputs": [],
   "source": [
    "from sklearn import datasets\n",
    "import numpy as np\n",
    "\n",
    "iris = datasets.load_iris()\n",
    "iris_X = iris.data\n",
    "masking_array = np.random.binomial(1, .25, iris_X.shape).astype(bool)\n",
    "iris_X[masking_array] = np.nan"
   ]
  },
  {
   "cell_type": "code",
   "execution_count": 28,
   "metadata": {
    "collapsed": false
   },
   "outputs": [
    {
     "data": {
      "text/plain": [
       "array([[ 5.1,  3.5,  1.4,  0.2],\n",
       "       [ 4.9,  3. ,  1.4,  0.2],\n",
       "       [ 4.7,  3.2,  1.3,  0.2],\n",
       "       [ 4.6,  3.1,  1.5,  0.2],\n",
       "       [ 5. ,  3.6,  1.4,  0.2],\n",
       "       [ 5.4,  3.9,  1.7,  0.4],\n",
       "       [ 4.6,  nan,  1.4,  nan],\n",
       "       [ 5. ,  3.4,  1.5,  0.2],\n",
       "       [ 4.4,  2.9,  1.4,  0.2],\n",
       "       [ 4.9,  nan,  1.5,  0.1]])"
      ]
     },
     "execution_count": 28,
     "metadata": {},
     "output_type": "execute_result"
    }
   ],
   "source": [
    "iris_X[:10, :]"
   ]
  },
  {
   "cell_type": "code",
   "execution_count": 29,
   "metadata": {
    "collapsed": false
   },
   "outputs": [
    {
     "data": {
      "text/plain": [
       "array([[ 5.1       ,  3.5       ,  1.4       ,  0.2       ],\n",
       "       [ 4.9       ,  3.        ,  1.4       ,  0.2       ],\n",
       "       [ 4.7       ,  3.2       ,  1.3       ,  0.2       ],\n",
       "       [ 4.6       ,  3.1       ,  1.5       ,  0.2       ],\n",
       "       [ 5.        ,  3.6       ,  1.4       ,  0.2       ],\n",
       "       [ 5.4       ,  3.9       ,  1.7       ,  0.4       ],\n",
       "       [ 4.6       ,  3.04070796,  1.4       ,  1.21775701],\n",
       "       [ 5.        ,  3.4       ,  1.5       ,  0.2       ],\n",
       "       [ 4.4       ,  2.9       ,  1.4       ,  0.2       ],\n",
       "       [ 4.9       ,  3.04070796,  1.5       ,  0.1       ]])"
      ]
     },
     "execution_count": 29,
     "metadata": {},
     "output_type": "execute_result"
    }
   ],
   "source": [
    "# Use Imputer() to fill nans\n",
    "impute = preprocessing.Imputer()\n",
    "iris_X_prime = impute.fit_transform(iris_X)\n",
    "iris_X_prime[:10]"
   ]
  },
  {
   "cell_type": "markdown",
   "metadata": {},
   "source": [
    "`Imputer()` works by filling NaNs with different values of each column with the argument `strategy`:\n",
    "\n",
    "* mean (default)\n",
    "* median\n",
    "* most_frequent (the mode)\n",
    "\n",
    "We can also use Numpy's masking method to fill NaNs."
   ]
  },
  {
   "cell_type": "code",
   "execution_count": 43,
   "metadata": {
    "collapsed": false
   },
   "outputs": [
    {
     "data": {
      "text/plain": [
       "array([[ 5.1,  3.5,  1.4,  0.2],\n",
       "       [ 4.9, -1. ,  1.4,  0.2],\n",
       "       [ 4.7,  3.2, -1. ,  0.2],\n",
       "       [ 4.6,  3.1,  1.5,  0.2],\n",
       "       [ 5. , -1. , -1. ,  0.2],\n",
       "       [ 5.4, -1. ,  1.7,  0.4],\n",
       "       [-1. ,  3.4,  1.4,  0.3],\n",
       "       [ 5. ,  3.4, -1. ,  0.2],\n",
       "       [ 4.4,  2.9,  1.4,  0.2],\n",
       "       [ 4.9,  3.1,  1.5,  0.1]])"
      ]
     },
     "execution_count": 43,
     "metadata": {},
     "output_type": "execute_result"
    }
   ],
   "source": [
    "# Fill NaNs with -1\n",
    "iris_X[np.isnan(iris_X)] = -1\n",
    "iris_X[:10]"
   ]
  },
  {
   "cell_type": "code",
   "execution_count": 44,
   "metadata": {
    "collapsed": false
   },
   "outputs": [
    {
     "data": {
      "text/plain": [
       "array([[ 5.1       ,  3.5       ,  1.4       ,  0.2       ],\n",
       "       [ 4.9       ,  3.02300885,  1.4       ,  0.2       ],\n",
       "       [ 4.7       ,  3.2       ,  3.66293103,  0.2       ],\n",
       "       [ 4.6       ,  3.1       ,  1.5       ,  0.2       ],\n",
       "       [ 5.        ,  3.02300885,  3.66293103,  0.2       ],\n",
       "       [ 5.4       ,  3.02300885,  1.7       ,  0.4       ],\n",
       "       [ 5.84356436,  3.4       ,  1.4       ,  0.3       ],\n",
       "       [ 5.        ,  3.4       ,  3.66293103,  0.2       ],\n",
       "       [ 4.4       ,  2.9       ,  1.4       ,  0.2       ],\n",
       "       [ 4.9       ,  3.1       ,  1.5       ,  0.1       ]])"
      ]
     },
     "execution_count": 44,
     "metadata": {},
     "output_type": "execute_result"
    }
   ],
   "source": [
    "# Or we can use Imputer() and take -1 as missing_values\n",
    "impute = preprocessing.Imputer(missing_values=-1)\n",
    "iris_X_prime = impute.fit_transform(iris_X)\n",
    "iris_X_prime[:10]"
   ]
  },
  {
   "cell_type": "markdown",
   "metadata": {},
   "source": [
    "We can also use Pandas to fill NaNs."
   ]
  },
  {
   "cell_type": "code",
   "execution_count": 48,
   "metadata": {
    "collapsed": false
   },
   "outputs": [
    {
     "data": {
      "text/plain": [
       "0    5.1\n",
       "1    4.9\n",
       "2    4.7\n",
       "3    4.6\n",
       "4    5.0\n",
       "Name: sepal length (cm), dtype: float64"
      ]
     },
     "execution_count": 48,
     "metadata": {},
     "output_type": "execute_result"
    }
   ],
   "source": [
    "import pandas as pd\n",
    "iris_X[masking_array] = np.nan\n",
    "iris_df = pd.DataFrame(iris_X, columns=iris.feature_names)\n",
    "iris_df.fillna(iris_df.mean())['sepal length (cm)'].head(5)"
   ]
  },
  {
   "cell_type": "markdown",
   "metadata": {},
   "source": [
    "### PCA"
   ]
  },
  {
   "cell_type": "code",
   "execution_count": 49,
   "metadata": {
    "collapsed": false
   },
   "outputs": [
    {
     "data": {
      "text/plain": [
       "array([[ -2.68420713e+00,  -3.26607315e-01,   2.15118370e-02,\n",
       "          1.00615724e-03],\n",
       "       [ -2.71539062e+00,   1.69556848e-01,   2.03521425e-01,\n",
       "          9.96024240e-02],\n",
       "       [ -2.88981954e+00,   1.37345610e-01,  -2.47092410e-02,\n",
       "          1.93045428e-02],\n",
       "       [ -2.74643720e+00,   3.11124316e-01,  -3.76719753e-02,\n",
       "         -7.59552741e-02],\n",
       "       [ -2.72859298e+00,  -3.33924564e-01,  -9.62296998e-02,\n",
       "         -6.31287327e-02]])"
      ]
     },
     "execution_count": 49,
     "metadata": {},
     "output_type": "execute_result"
    }
   ],
   "source": [
    "from sklearn import datasets\n",
    "from sklearn import decomposition\n",
    "\n",
    "iris = datasets.load_iris()\n",
    "iris_X = iris.data\n",
    "pca = decomposition.PCA()\n",
    "iris_pca = pca.fit_transform(iris_X)\n",
    "iris_pca[:5]"
   ]
  },
  {
   "cell_type": "code",
   "execution_count": 51,
   "metadata": {
    "collapsed": false
   },
   "outputs": [
    {
     "data": {
      "text/plain": [
       "array([ 0.92461621,  0.05301557,  0.01718514,  0.00518309])"
      ]
     },
     "execution_count": 51,
     "metadata": {},
     "output_type": "execute_result"
    }
   ],
   "source": [
    "# How well PCA has done at explaining the variance \n",
    "pca.explained_variance_ratio_"
   ]
  },
  {
   "cell_type": "markdown",
   "metadata": {},
   "source": [
    "One advantage of TruncatedSVD over PCA is that TruncatedSVD can operate on sparse\n",
    "matrices while PCA cannot. This is due to the fact that the covariance matrix must be computed\n",
    "for PCA, which requires operating on the entire matrix."
   ]
  },
  {
   "cell_type": "code",
   "execution_count": 55,
   "metadata": {
    "collapsed": false
   },
   "outputs": [
    {
     "data": {
      "text/plain": [
       "array([[ 5.1,  3.5,  1.4,  0.2],\n",
       "       [ 4.9,  3. ,  1.4,  0.2],\n",
       "       [ 4.7,  3.2,  1.3,  0.2],\n",
       "       [ 4.6,  3.1,  1.5,  0.2],\n",
       "       [ 5. ,  3.6,  1.4,  0.2]])"
      ]
     },
     "execution_count": 55,
     "metadata": {},
     "output_type": "execute_result"
    }
   ],
   "source": [
    "from sklearn.decomposition import TruncatedSVD\n",
    "from sklearn.datasets import load_iris\n",
    "iris = load_iris()\n",
    "iris_data = iris.data\n",
    "svd = TruncatedSVD(2)\n",
    "iris_transformed = svd.fit_transform(iris_data)\n",
    "iris_data[:5]"
   ]
  },
  {
   "cell_type": "markdown",
   "metadata": {},
   "source": [
    "`DictionaryLearning` attempts to take a dataset and transform\n",
    "it into a sparse representation. With DictionaryLearning, the idea is that the features are a basis for the resulting\n",
    "datasets."
   ]
  },
  {
   "cell_type": "code",
   "execution_count": 56,
   "metadata": {
    "collapsed": false
   },
   "outputs": [
    {
     "data": {
      "text/plain": [
       "array([[ 0.        ,  6.34476574,  0.        ],\n",
       "       [ 0.        ,  5.83576461,  0.        ],\n",
       "       [ 0.        ,  6.32038375,  0.        ],\n",
       "       [ 0.        ,  5.89318572,  0.        ],\n",
       "       [ 0.        ,  5.45222715,  0.        ]])"
      ]
     },
     "execution_count": 56,
     "metadata": {},
     "output_type": "execute_result"
    }
   ],
   "source": [
    "from sklearn.decomposition import DictionaryLearning\n",
    "\n",
    "dl = DictionaryLearning(3)\n",
    "transformed = dl.fit_transform(iris_data[::2])\n",
    "transformed[:5]"
   ]
  },
  {
   "cell_type": "code",
   "execution_count": 59,
   "metadata": {
    "collapsed": false
   },
   "outputs": [
    {
     "data": {
      "text/plain": [
       "array([[ -2.68420713e+00,  -3.26607315e-01,   2.15118370e-02,\n",
       "          1.00615724e-03],\n",
       "       [ -2.71539062e+00,   1.69556848e-01,   2.03521425e-01,\n",
       "          9.96024240e-02],\n",
       "       [ -2.88981954e+00,   1.37345610e-01,  -2.47092410e-02,\n",
       "          1.93045428e-02],\n",
       "       [ -2.74643720e+00,   3.11124316e-01,  -3.76719753e-02,\n",
       "         -7.59552741e-02],\n",
       "       [ -2.72859298e+00,  -3.33924564e-01,  -9.62296998e-02,\n",
       "         -6.31287327e-02]])"
      ]
     },
     "execution_count": 59,
     "metadata": {},
     "output_type": "execute_result"
    }
   ],
   "source": [
    "# Put together using a pipeline\n",
    "from sklearn import pipeline\n",
    "pca = decomposition.PCA()\n",
    "imputer = preprocessing.Imputer()\n",
    "\n",
    "pipe = pipeline.Pipeline([('imputer', imputer), ('pca', pca)])\n",
    "iris_data_transformed = pipe.fit_transform(iris_data)\n",
    "iris_data_transformed[:5]"
   ]
  },
  {
   "cell_type": "markdown",
   "metadata": {},
   "source": [
    "## Ch2. Working with linear models"
   ]
  },
  {
   "cell_type": "code",
   "execution_count": 1,
   "metadata": {
    "collapsed": true
   },
   "outputs": [],
   "source": [
    "from sklearn import datasets\n",
    "from sklearn.linear_model import LinearRegression\n",
    "\n",
    "boston = datasets.load_boston()\n",
    "lr = LinearRegression()\n",
    "lr.fit(boston.data, boston.target)\n",
    "predictions = lr.predict(boston.data)"
   ]
  },
  {
   "cell_type": "code",
   "execution_count": 3,
   "metadata": {
    "collapsed": false
   },
   "outputs": [],
   "source": [
    "# LinearRegression can automatically normalzie the inputs.\n",
    "lr2 = LinearRegression(normalize=True)\n",
    "lr2.fit(boston.data, boston.target)\n",
    "predictions2 = lr2.predict(boston.data)"
   ]
  },
  {
   "cell_type": "code",
   "execution_count": 4,
   "metadata": {
    "collapsed": false
   },
   "outputs": [
    {
     "data": {
      "text/plain": [
       "<matplotlib.text.Text at 0x10f2f0c10>"
      ]
     },
     "execution_count": 4,
     "metadata": {},
     "output_type": "execute_result"
    },
    {
     "data": {
      "image/png": "[encoded data removed]",
      "text/plain": [
       "<matplotlib.figure.Figure at 0x10e6df490>"
      ]
     },
     "metadata": {},
     "output_type": "display_data"
    }
   ],
   "source": [
    "%matplotlib inline\n",
    "import matplotlib.pyplot as plt\n",
    "import numpy as np\n",
    "\n",
    "f = plt.figure(figsize=(7, 5))\n",
    "ax = f.add_subplot(111)\n",
    "ax.hist(boston.target - predictions, bins=50)\n",
    "ax.set_title(\"Histogram of residuals.\")"
   ]
  },
  {
   "cell_type": "code",
   "execution_count": 6,
   "metadata": {
    "collapsed": false
   },
   "outputs": [
    {
     "data": {
      "image/png": "[encoded data removed]",
      "text/plain": [
       "<matplotlib.figure.Figure at 0x10f56fd50>"
      ]
     },
     "metadata": {},
     "output_type": "display_data"
    }
   ],
   "source": [
    "from scipy.stats import probplot\n",
    "f = plt.figure(figsize=(7, 5))\n",
    "ax = f.add_subplot(111)\n",
    "probplot(boston.target - predictions, plot=ax);"
   ]
  },
  {
   "cell_type": "code",
   "execution_count": 7,
   "metadata": {
    "collapsed": false
   },
   "outputs": [
    {
     "data": {
      "text/plain": [
       "0.10000000000000001"
      ]
     },
     "execution_count": 7,
     "metadata": {},
     "output_type": "execute_result"
    }
   ],
   "source": [
    "from sklearn.datasets import make_regression\n",
    "from sklearn.linear_model import RidgeCV\n",
    "\n",
    "reg_data, reg_target = make_regression(n_samples=100,\n",
    "                                       n_features=2, effective_rank=1, noise=10)\n",
    "rcv = RidgeCV(alphas=np.array([.1, .2, .3, .4]))\n",
    "rcv.fit(reg_data, reg_target)\n",
    "rcv.alpha_"
   ]
  },
  {
   "cell_type": "markdown",
   "metadata": {},
   "source": [
    "* Lasso: L1 norm regulation, can set coefficitents to zeros.\n",
    "* Ridge: L2 norm regulation, cannot set coefficients to zeros.\n",
    "\n",
    "## Ch3. Building model with distance metrics\n",
    "\n",
    "* [KMeans](http://scikit-learn.org/stable/auto_examples/cluster/plot_cluster_iris.html)\n",
    "\n",
    "### Optimizing the number of centroids\n",
    "\n",
    "Centroids are difficult to interpret, and it can also be very difficult to determine whether\n",
    "we have the correct number of centroids. It's important to understand whether your data\n",
    "is unlabeled or not as this will directly influence the evaluation measures we can use.\n",
    "\n",
    "Evaluating the model performance for unsupervised techniques is a challenge. Consequently,\n",
    "sklearn has several methods to evaluate clustering when a ground truth is known, and very\n",
    "few for when it isn't."
   ]
  },
  {
   "cell_type": "code",
   "execution_count": 8,
   "metadata": {
    "collapsed": false
   },
   "outputs": [
    {
     "data": {
      "text/plain": [
       "KMeans(copy_x=True, init='k-means++', max_iter=300, n_clusters=3, n_init=10,\n",
       "    n_jobs=1, precompute_distances='auto', random_state=None, tol=0.0001,\n",
       "    verbose=0)"
      ]
     },
     "execution_count": 8,
     "metadata": {},
     "output_type": "execute_result"
    }
   ],
   "source": [
    "from sklearn.datasets import make_blobs\n",
    "import numpy as np\n",
    "from sklearn.cluster import KMeans\n",
    "\n",
    "blobs, classes = make_blobs(500, centers=3)\n",
    "kmean = KMeans(n_clusters=3)\n",
    "kmean.fit(blobs)"
   ]
  },
  {
   "cell_type": "markdown",
   "metadata": {},
   "source": [
    "Silhouette distance is the ratio of the difference\n",
    "between in-cluster dissimilarity, the closest out-of-cluster dissimilarity, and the maximum\n",
    "of these two values. It can be thought of as a measure of how separate the clusters are."
   ]
  },
  {
   "cell_type": "code",
   "execution_count": 9,
   "metadata": {
    "collapsed": false
   },
   "outputs": [
    {
     "data": {
      "text/plain": [
       "array([[ 1.        ,  0.6498249 ],\n",
       "       [ 2.        ,  0.69805245],\n",
       "       [ 2.        ,  0.63163106],\n",
       "       [ 2.        ,  0.73891368],\n",
       "       [ 2.        ,  0.74054235]])"
      ]
     },
     "execution_count": 9,
     "metadata": {},
     "output_type": "execute_result"
    }
   ],
   "source": [
    "from sklearn import metrics\n",
    "\n",
    "silhouette_samples = metrics.silhouette_samples(blobs, kmean.labels_)\n",
    "np.column_stack((classes[:5], silhouette_samples[:5]))"
   ]
  },
  {
   "cell_type": "code",
   "execution_count": 10,
   "metadata": {
    "collapsed": false
   },
   "outputs": [
    {
     "data": {
      "text/plain": [
       "(array([   7.,   10.,   19.,   10.,   16.,   38.,   51.,  110.,  148.,   91.]),\n",
       " array([ 0.01803156,  0.09495869,  0.17188582,  0.24881295,  0.32574008,\n",
       "         0.40266721,  0.47959435,  0.55652148,  0.63344861,  0.71037574,\n",
       "         0.78730287]),\n",
       " <a list of 10 Patch objects>)"
      ]
     },
     "execution_count": 10,
     "metadata": {},
     "output_type": "execute_result"
    },
    {
     "data": {
      "image/png": "[encoded data removed]",
      "text/plain": [
       "<matplotlib.figure.Figure at 0x10f3d3710>"
      ]
     },
     "metadata": {},
     "output_type": "display_data"
    }
   ],
   "source": [
    "f, ax = plt.subplots(figsize=(10, 5))\n",
    "ax.set_title(\"Hist of Silhouette Samples\")\n",
    "ax.hist(silhouette_samples)"
   ]
  },
  {
   "cell_type": "code",
   "execution_count": 11,
   "metadata": {
    "collapsed": false
   },
   "outputs": [
    {
     "data": {
      "text/plain": [
       "[<matplotlib.lines.Line2D at 0x1113f4650>]"
      ]
     },
     "execution_count": 11,
     "metadata": {},
     "output_type": "execute_result"
    },
    {
     "data": {
      "image/png": "[encoded data removed]",
      "text/plain": [
       "<matplotlib.figure.Figure at 0x10fbd3390>"
      ]
     },
     "metadata": {},
     "output_type": "display_data"
    }
   ],
   "source": [
    "# first new ground truth\n",
    "blobs, classes = make_blobs(500, centers=10)\n",
    "sillhouette_avgs = []\n",
    "# this could take a while\n",
    "for k in range(2, 60):\n",
    "    kmean = KMeans(n_clusters=k).fit(blobs)\n",
    "    sillhouette_avgs.append(metrics.silhouette_score(blobs,\n",
    "                                                     kmean.labels_))\n",
    "f, ax = plt.subplots(figsize=(7, 5))\n",
    "ax.plot(sillhouette_avgs)"
   ]
  },
  {
   "cell_type": "markdown",
   "metadata": {},
   "source": [
    "### Assessing cluster correctness"
   ]
  },
  {
   "cell_type": "code",
   "execution_count": 12,
   "metadata": {
    "collapsed": false
   },
   "outputs": [
    {
     "data": {
      "text/plain": [
       "<matplotlib.legend.Legend at 0x1112efe50>"
      ]
     },
     "execution_count": 12,
     "metadata": {},
     "output_type": "execute_result"
    },
    {
     "name": "stderr",
     "output_type": "stream",
     "text": [
      "/Users/yanshi/anaconda/lib/python2.7/site-packages/matplotlib/collections.py:590: FutureWarning: elementwise comparison failed; returning scalar instead, but in the future will perform elementwise comparison\n",
      "  if self._edgecolors == str('face'):\n"
     ]
    },
    {
     "data": {
      "image/png": "[encoded data removed]",
      "text/plain": [
       "<matplotlib.figure.Figure at 0x1112ae5d0>"
      ]
     },
     "metadata": {},
     "output_type": "display_data"
    }
   ],
   "source": [
    "from sklearn import datasets\n",
    "from sklearn import cluster\n",
    "\n",
    "blobs, ground_truth = datasets.make_blobs(1000, centers=3, cluster_std=1.75)\n",
    "f, ax = plt.subplots(figsize=(7, 5))\n",
    "colors = ['r', 'g', 'b']\n",
    "for i in range(3):\n",
    "    p = blobs[ground_truth == i]\n",
    "    ax.scatter(p[:,0], p[:,1], c=colors[i],\n",
    "               label=\"Cluster {}\".format(i))\n",
    "ax.set_title(\"Cluster With Ground Truth\")\n",
    "ax.legend()"
   ]
  },
  {
   "cell_type": "code",
   "execution_count": 13,
   "metadata": {
    "collapsed": false
   },
   "outputs": [
    {
     "data": {
      "text/plain": [
       "<matplotlib.legend.Legend at 0x111530f90>"
      ]
     },
     "execution_count": 13,
     "metadata": {},
     "output_type": "execute_result"
    },
    {
     "data": {
      "image/png": "[encoded data removed]",
      "text/plain": [
       "<matplotlib.figure.Figure at 0x10f5b6510>"
      ]
     },
     "metadata": {},
     "output_type": "display_data"
    }
   ],
   "source": [
    "kmeans = cluster.KMeans(n_clusters=3)\n",
    "kmeans.fit(blobs)\n",
    "f, ax = plt.subplots(figsize=(7, 5))\n",
    "colors = ['r', 'g', 'b']\n",
    "for i in range(3):\n",
    "    p = blobs[ground_truth == i]\n",
    "    ax.scatter(p[:,0], p[:,1], c=colors[i],\n",
    "               label=\"Cluster {}\".format(i))\n",
    "ax.scatter(kmeans.cluster_centers_[:, 0],\n",
    "           kmeans.cluster_centers_[:, 1], s=100, color='black',\n",
    "           label='Centers')\n",
    "ax.set_title(\"Cluster With Ground Truth\")\n",
    "ax.legend()"
   ]
  },
  {
   "cell_type": "markdown",
   "metadata": {},
   "source": [
    "## Ch4. Classifying data with scikit-learn\n",
    "\n",
    "\n",
    "* Naive Bayes\n",
    "* Decision tree\n",
    "* Random Forest\n",
    "* SVM\n",
    "* Linear Discriminant Analysis (LDA)\n",
    "\n",
    "LDA attempts to fit a linear combination of features to predict the outcome variable. LDA is often used as a preprocessing step.\n",
    "\n",
    "LDA is actually fairly similar to clustering that we did previously. We fit a basic model from the\n",
    "data. Then, once we have the model, we try to predict and compare the likelihoods of the data\n",
    "given in each class. We choose the option that's more likely.\n",
    "\n",
    "LDA is actually a simplification of QDA. Here, we\n",
    "assume that the covariance of each class is the same, but in QDA, the assumption is relaxed.\n",
    "\n",
    "\n",
    "QDA is the generalization of a common technique such as quadratic regression. It is simply\n",
    "a generalization of the model to allow for more complex models to fit.\n",
    "\n",
    "The fundamental idea of how Naïve Bayes works is that we can estimate the probability of\n",
    "some data point being a class, given the feature vector.\n",
    "This can be rearranged via the Bayes formula to give the MAP estimate for the feature vector.\n",
    "This MAP estimate chooses the class for which the feature vector's probability is maximized."
   ]
  },
  {
   "cell_type": "code",
   "execution_count": 4,
   "metadata": {
    "collapsed": false
   },
   "outputs": [],
   "source": [
    "%matplotlib inline\n",
    "import pydot\n",
    "from sklearn import datasets\n",
    "from sklearn.tree import DecisionTreeClassifier\n",
    "from StringIO import StringIO\n",
    "from sklearn import tree\n",
    "\n",
    "X, y = datasets.make_classification(1000, 20, n_informative=3)\n",
    "dt = DecisionTreeClassifier()\n",
    "dt.fit(X, y)\n",
    "str_buffer = StringIO()\n",
    "tree.export_graphviz(dt, out_file=str_buffer)\n",
    "graph = pydot.graph_from_dot_data(str_buffer.getvalue())"
   ]
  },
  {
   "cell_type": "markdown",
   "metadata": {
    "collapsed": true
   },
   "source": [
    "## Ch5. Postmodel workflow\n",
    "\n",
    "* K-fold cross validation\n",
    "* ShuffleSplit\n",
    "\n",
    "**Difference in KFold and ShuffleSplit output**\n",
    "\n",
    "KFold will divide your data set into prespecified number of folds, and every sample must be in one and only one fold. A fold is a subset of your dataset.\n",
    "\n",
    "ShuffleSplit will randomly sample your entire dataset during each iteration to generate a training set and a test set. The test_size and train_size parameters control how large the test and training test set should be for each iteration. Since you are sampling from the entire dataset during each iteration, values selected during one iteration, could be selected again during another iteration.\n",
    "\n",
    "Summary: ShuffleSplit works iteratively, KFold just divides the dataset into k folds.\n",
    "\n",
    "Difference when doing validation\n",
    "\n",
    "In KFold, during each round you will use one fold as the test set and all the remaining folds as your training set. However, in ShuffleSplit, during each round n you should only use the training and test set from iteration n. As your data set grows, cross validation time increases, making shufflesplits a more attractive alternate. If you can train your algorithm, with a certain percentage of your data as opposed to using all k-1 folds, ShuffleSplit is an attractive option.\n",
    "\n",
    "\n",
    "* Stratified k-fold: intelligently splitting the training and test set into the proportions.\n",
    "\n",
    "* [GridSearchCV](http://scikit-learn.org/0.17/modules/generated/sklearn.grid_search.GridSearchCV.html)\n",
    "\n"
   ]
  }
 ],
 "metadata": {
  "kernelspec": {
   "display_name": "Python 2",
   "language": "python",
   "name": "python2"
  },
  "language_info": {
   "codemirror_mode": {
    "name": "ipython",
    "version": 2
   },
   "file_extension": ".py",
   "mimetype": "text/x-python",
   "name": "python",
   "nbconvert_exporter": "python",
   "pygments_lexer": "ipython2",
   "version": "2.7.10"
  }
 },
 "nbformat": 4,
 "nbformat_minor": 0
}
