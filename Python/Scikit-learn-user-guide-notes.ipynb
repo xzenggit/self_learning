{
 "cells": [
  {
   "cell_type": "markdown",
   "metadata": {},
   "source": [
    "## Notes for [scikit-learn user guide](http://scikit-learn.org/stable/user_guide.html).\n",
    "\n",
    "## 1. Superivsed learning\n",
    "### 1.1 [Generalized linear models](http://scikit-learn.org/stable/modules/linear_model.html) \n",
    "#### 1.1.1 Ordinary Least Sqaures (OLS)\n",
    "$y(\\omega,x)=\\omega_0+\\omega_1+\\cdots+\\omega_px_p$,\n",
    "$\\omega=(\\omega_1,\\cdots,\\omega_p)$ as `coef_`, and $\\omega_0$ as `intercept_`\n",
    "\n",
    "Linear regression filts a linear model to minimize \n",
    "\n",
    "$\\underset{w}{min\\,} {|| X w - y||_2}^2$\n",
    "\n",
    "However, coefficients estimates for OLS reply on the **independence** of the model terms. When the terms are **correlated** and the columns of the design matrix X have an approximate **linear dependence**, the desginmatrix becomes close to **singular**, and as a result, the least-square estimate becomes **highly sensitive** to random errors in the observed response, producing a **large variance**.\n",
    "#### 1.1.2 Ridge Regression\n",
    "Ridge regression (**L2-norm minimization**) imposes a penalyt on the size of cofficients to minimize \n",
    "\n",
    "$\\underset{w}{min\\,} {{|| X w - y||_2}^2 + \\alpha {||w||_2}^2}$\n",
    "\n",
    "Here, $\\alpha \\ge 0$ controls the amount of shrinkage: the large the value of $\\alpha$, the greater the amount of shrinkage and thus the cofficients become more robust to **colinearity**.\n",
    "\n",
    "`RidgeCV` implements ridge regression with built-in cross-validation of the $\\alpha$ parameter. It works in the same way as `GridSearchCV` except that it defaults to [Generalized Cross-Validation](http://cbcl.mit.edu/projects/cbcl/publications/ps/MIT-CSAIL-TR-2007-025.pdf) (GCV), an efficient form of leave-one-out corss-validation.\n",
    "#### 1.1.3 Lasso\n",
    "Lasso(**L1-norm minimization**) is a linear model that estimates **sparse coefficients**, effectively reducing the number of variables upon which the given solution is dependent. The objective function to minimize is:\n",
    "\n",
    "$\\underset{w}{min\\,} { \\frac{1}{2n_{samples}} ||X w - y||_2 ^ 2 + \\alpha ||w||_1}$\n",
    "\n",
    "The $\\alpha$ parameter is determined by cross-validation `LassoCV` and `LassoLarsCV` (the latter is based on the Least Angle Regression).\n",
    "\n",
    "For **high-dimensional** datasets with many collinear regressors, `LassoCV` is most often preferable. \n",
    "\n",
    "`LassoLarsCV` has the advantage of exploring **more relevant** values of $\\alpha$ parameter, and if the number of samples is very **small** compared to the number of observations, it is often **faster** than `LassoCV`.\n",
    "\n",
    "`LassoLarsIC` uses the Akaike information criterion (AIC) and the Bayes information criterion (BIC). It's computationally **cheaper** (the regulation path in computed only once instead of k+1 times using k-fold cross-validation). But it needs a proper estimation of the degrees of freedom of the solution, are derived for large samples and assume the model is correct. They also tend to break when the problem is badly conditioned (more features than samples).\n",
    "#### 1.1.4 Elastic Net\n",
    "It's a linear regression model trained with **L1 and L2** prior as regularizer. This combination allows for learning a sparse model where few of the weights are non-zero like Lasso, while still maintaining the regularization properties of Ridge. We control the convex combination of L1 and L2 using the `l1_ratio` parameter. \n",
    "\n",
    "Elastic Net is useful when there are multiple features which are correlated with one another.\n",
    "\n",
    "The objective function to minimize is in this case\n",
    "\n",
    "$\\underset{w}{min\\,} { \\frac{1}{2n_{samples}} ||X w - y||_2 ^ 2 + \\alpha \\rho ||w||_1 +\n",
    "\\frac{\\alpha(1-\\rho)}{2} ||w||_2 ^ 2}$\n",
    "\n",
    "The class ElasticNetCV can be used to set the parameters alpha ($\\alpha$) and `l1_ratio` ($\\rho$) by cross-validation.\n",
    "#### 1.1.5 Multi-task Lasso\n",
    "A linear model to estimate sparse coefficients for multiple regression problems jointly: y is 2D array of shape (n_samples, n_tasks). The constraint is that the selected features are the same for all the regression problems. \n",
    "\n",
    "Mathematically, it consists of a linear model trained with a mixed **L1L2** prior as regularizer. The objective function to minimize is:\n",
    "\n",
    "$\\underset{w}{min\\,} { \\frac{1}{2n_{samples}} ||X W - Y||_2 ^ 2 + \\alpha ||W||_{21}}$\n",
    "where\n",
    "$||W||_{2 1} = \\sum_i \\sqrt{\\sum_j w_{ij}^2}$\n",
    "\n",
    "The implementation uses coordinate descent as the algorithm to fit the coefficients.\n",
    "#### 1.1.6 Least Angle Regression (LARS)\n",
    "A regression algorithm for **high-dimensional** data. Advantages:\n",
    "* Numerically efficient in contexts where p>>n (i.e., number of dimensions is significantly greater than the number of points)\n",
    "* Computationally as fast as forward selection, and has the same order of complexity as OLS\n",
    "* Produces full piecewise linear solution path, useful in cross-validation or similar attempts to tune the model.\n",
    "\n",
    "Because LARS is based upon an iterative refitting of the residuals, it would appear to be especially **sensitive to the effects of noise**.\n",
    "\n",
    "The LARS model can be used using estimator `Lars`, or its low-level implementation `lars_path`.\n",
    "#### 1.1.7 LARS Lasso\n",
    "A Lasso model implemented using the LARS algorithm. The algorithm is similar to forward stepwise regression, but instead of including variables at each step, the estimated parameters are increased in a direction equiangular to each one's correlations with the residual. The full coefficients path is stored in the array `coef_path_`, which has size (n_features, max_features+1). The first column is always zero. Original Algorithm is detailed in the paper [Least Angle Regression](http://web.stanford.edu/~hastie/Papers/LARS/LeastAngle_2002.pdf) by Hastie et al.\n",
    "#### 1.1.8 Logistic regression\n",
    "The implementation of logistic regression in scikit-learn can be accessed from class LogisticRegression. This implementation can fit a multiclass (one-vs-rest) logistic regression with optional L2 or L1 regularization.\n",
    "\n",
    "As an optimization problem, binary class L2 penalized logistic regression minimizes the following cost function:\n",
    "\n",
    "$\\underset{w, c}{min\\,} \\frac{1}{2}w^T w + C \\sum_{i=1}^n \\log(\\exp(- y_i (X_i^T w + c)) + 1)$ .\n",
    "\n",
    "Similarly, L1 regularized logistic regression solves the following optimization problem\n",
    "\n",
    "$\\underset{w, c}{min\\,} \\|w\\|_1 + C \\sum_{i=1}^n \\log(\\exp(- y_i (X_i^T w + c)) + 1)$.\n",
    "#### 1.1.9 Polynomial regression\n",
    "The model looks like this:\n",
    "\n",
    "$\\hat{y}(w, x) = w_0 + w_1 x_1 + w_2 x_2 + w_3 x_1 x_2 + w_4 x_1^2 + w_5 x_2^2$\n",
    "\n",
    "The (sometimes surprising) observation is that this is still a linear model: to see this, imagine creating a new variable\n",
    "\n",
    "$z = [x_1, x_2, x_1 x_2, x_1^2, x_2^2]$\n",
    "\n",
    "With this re-labeling of the data, our problem can be written\n",
    "\n",
    "$\\hat{y}(w, x) = w_0 + w_1 z_1 + w_2 z_2 + w_3 z_3 + w_4 z_4 + w_5 z_5$\n",
    "\n",
    "By considering linear fits within a higher-dimensional space built with these basis functions, the model has the flexibility to fit a much broader range of data. The polynomial feature can be created using `PolynomialFeatures`.\n",
    "\n",
    "In some cases it’s not necessary to include higher powers of any single feature, but only the so-called interaction features that multiply together at most d distinct features. These can be gotten from `PolynomialFeatures` with the setting `interaction_only=True`.\n",
    "### 1.2 [Linear and quadratic discriminant analysis](http://scikit-learn.org/stable/modules/lda_qda.html)\n",
    "Linear discriminant analysis (`lda.LDA`) and quadratic discriminant analysis (`qda.QDA`) are two classic classifiers, with, as their names suggest, a linear and a quadratic decision surface, respectively.\n",
    "\n",
    "These classifiers are attractive because they have **closed-form solutions** that can be **easily computed**, are inherently multiclass, and have proven to work well in practice. Also there are **no parameters to tune** for these algorithms.\n",
    "\n",
    "`lda.LDA` can be used to perform supervised dimensionality reduction by projecting the input data to a subspace consisting of the most discriminant directions. This is implemented in `lda.LDA.transform`. The desired dimensionality can be set using the `n_components` constructor parameter. This parameter has no influence on `lda.LDA.fit` or `lda.LDA.predict`.\n",
    "\n",
    "Both methods work by modeling the class conditional distribution of the data P(X|y=k) for each class k. Predictions can be obtained by using Bayes’ rule:\n",
    "\n",
    "$P(y | X) = P(X | y) \\cdot P(y) / P(X) = P(X | y) \\cdot P(Y) / ( \\sum_{y'} P(X | y') \\cdot p(y'))$\n",
    "\n",
    "In linear and quadratic discriminant analysis, $P(X|y)$ is modelled as a Gaussian distribution. In the case of LDA, the Gaussians for each class are assumed to share the same covariance matrix. This leads to a linear decision surface, as can be seen by comparing the the log-probability rations $log[P(y=k | X) / P(y=l | X)]$.\n",
    "\n",
    "In the case of QDA, there are no assumptions on the covariance matrices of the Gaussians, leading to a quadratic decision surface.\n",
    "### 1.3 [Kernel ridge regression](http://scikit-learn.org/stable/modules/kernel_ridge.html)\n",
    "Combine Ridge with the kernel trick. It thus learns a linear function in the space induced by the respective kernel and the data. For non-linear kernels, this corresponds to a non-linear function in the original space.\n",
    "\n",
    "The form of the model learned by `KernelRidge` is identical to support vector regression (SVR). However, different loss functions are used: KRR uses squared **error loss** while support vector regression uses **$\\epsilon$-insensitive loss**, both combined with L2 regularization. In contrast to SVR, fitting KernelRidge can be done in **closed-form** and is typically **faster for medium-sized datasets**. On the other hand, the learned model is non-sparse and thus slower than SVR, which learns a sparse model for $\\epsilon$ > 0, at prediction-time.\n",
    "### 1.4 [Supporter Vector Machines (SVMs)](http://scikit-learn.org/stable/modules/svm.html)\n",
    "SVMs are a set of supervised learning methods used for **classification**, **regression** and **outliers detection**.\n",
    "\n",
    "The advantages of support vector machines are:\n",
    "* Effective in high dimensional spaces.\n",
    "* Still effective in cases where number of dimensions is greater than the number of samples.\n",
    "* Uses a subset of training points in the decision function (called support vectors), so it is also memory efficient.\n",
    "* Versatile: different **Kernel functions** can be specified for the decision function. Common kernels are provided, but it is also possible to specify custom kernels.\n",
    "\n",
    "The disadvantages of support vector machines include:\n",
    "* If the number of features is much greater than the number of samples, the method is likely to give poor performances.\n",
    "* SVMs do not directly provide probability estimates, these are calculated using an expensive five-fold cross-validation \n",
    "\n",
    "#### 1.4.1 Classification\n",
    "`SVC`, `NuSVC` and `LinearSVC` are classes capable of perfomring multi-class classification on a dataset. They take as input two arrays: an array X of size `[n_samples, n_features]` holding the training samples, and an array y of class lablels (strings or integers), size `[n_samples]`.\n",
    "\n",
    "`SVC` and `NuSVC` are similar methods, but accept slightly different sets of parameters and have different mathematical formulations. They implement the \"one-vs-one\" approch for multi-class classification. If `n_class` is the number of classes, then `n_class * (n_class - 1) / 2` classifiers are constructed and each one trains data from two classes.\n",
    "\n",
    "`LinearSVC` is another implementation of Support Vector Classification for the case of a linear kernel. Note that `LinearSVC` does not accept keyword kernel, as this is assumed to be linear. It implements “one-vs-the-rest” multi-class strategy, thus training n_class models.\n",
    "\n",
    "The `SV` method decision_function gives per-class scores for each sample (or a single score per sample in the binary case). When the constructor option `probability` is set to True, class membership probability estimates (from the methods `predict_proba` and `predict_log_proba`) are enabled.\n",
    "\n",
    "In problems where it is desired to give more importance to certain classes or certain individual samples keywords `class_weight` and `sample_weight` can be used.\n",
    "\n",
    "`SVC`, `NuSVC`, `SVR`, `NuSVR` and `OneClassSVM` implement also weights for individual samples in method fit through keyword `sample_weight`. Similar to `class_weight`, these set the parameter C for the i-th example to C * sample_weight[i].\n",
    "#### 1.4.2 Regression\n"
   ]
  },
  {
   "cell_type": "code",
   "execution_count": 2,
   "metadata": {
    "collapsed": false
   },
   "outputs": [
    {
     "name": "stdout",
     "output_type": "stream",
     "text": [
      "Computing regularization path using the LARS ...\n",
      "."
     ]
    },
    {
     "data": {
      "image/png": "[encoded data removed]",
      "text/plain": [
       "<matplotlib.figure.Figure at 0x11153b090>"
      ]
     },
     "metadata": {},
     "output_type": "display_data"
    }
   ],
   "source": [
    "# Lasso path using LARS\n",
    "# Author: Fabian Pedregosa <fabian.pedregosa@inria.fr>\n",
    "#         Alexandre Gramfort <alexandre.gramfort@inria.fr>\n",
    "# License: BSD 3 clause\n",
    "\n",
    "import numpy as np\n",
    "import matplotlib.pyplot as plt\n",
    "\n",
    "from sklearn import linear_model\n",
    "from sklearn import datasets\n",
    "\n",
    "diabetes = datasets.load_diabetes()\n",
    "X = diabetes.data\n",
    "y = diabetes.target\n",
    "\n",
    "print(\"Computing regularization path using the LARS ...\")\n",
    "alphas, _, coefs = linear_model.lars_path(X, y, method='lasso', verbose=True)\n",
    "\n",
    "xx = np.sum(np.abs(coefs.T), axis=1)\n",
    "xx /= xx[-1]\n",
    "\n",
    "plt.plot(xx, coefs.T)\n",
    "ymin, ymax = plt.ylim()\n",
    "plt.vlines(xx, ymin, ymax, linestyle='dashed')\n",
    "plt.xlabel('|coef| / max|coef|')\n",
    "plt.ylabel('Coefficients')\n",
    "plt.title('LASSO Path')\n",
    "plt.axis('tight')\n",
    "plt.show()"
   ]
  },
  {
   "cell_type": "code",
   "execution_count": 3,
   "metadata": {
    "collapsed": false
   },
   "outputs": [
    {
     "name": "stdout",
     "output_type": "stream",
     "text": [
      "C=100.00\n",
      "Sparsity with L1 penalty: 6.25%\n",
      "score with L1 penalty: 0.9104\n",
      "Sparsity with L2 penalty: 4.69%\n",
      "score with L2 penalty: 0.9098\n",
      "C=1.00\n",
      "Sparsity with L1 penalty: 9.38%\n",
      "score with L1 penalty: 0.9098\n",
      "Sparsity with L2 penalty: 4.69%\n",
      "score with L2 penalty: 0.9093\n",
      "C=0.01\n",
      "Sparsity with L1 penalty: 85.94%\n",
      "score with L1 penalty: 0.8625\n",
      "Sparsity with L2 penalty: 4.69%\n",
      "score with L2 penalty: 0.8915\n"
     ]
    },
    {
     "data": {
      "image/png": "[encoded data removed]",
      "text/plain": [
       "<matplotlib.figure.Figure at 0x1062aa290>"
      ]
     },
     "metadata": {},
     "output_type": "display_data"
    }
   ],
   "source": [
    "# L1 Penalty and Sparsity in Logistic Regression\n",
    "# Authors: Alexandre Gramfort <alexandre.gramfort@inria.fr>\n",
    "#          Mathieu Blondel <mathieu@mblondel.org>\n",
    "#          Andreas Mueller <amueller@ais.uni-bonn.de>\n",
    "# License: BSD 3 clause\n",
    "\n",
    "import numpy as np\n",
    "import matplotlib.pyplot as plt\n",
    "\n",
    "from sklearn.linear_model import LogisticRegression\n",
    "from sklearn import datasets\n",
    "from sklearn.preprocessing import StandardScaler\n",
    "\n",
    "digits = datasets.load_digits()\n",
    "\n",
    "X, y = digits.data, digits.target\n",
    "X = StandardScaler().fit_transform(X)\n",
    "\n",
    "# classify small against large digits\n",
    "y = (y > 4).astype(np.int)\n",
    "\n",
    "\n",
    "# Set regularization parameter\n",
    "for i, C in enumerate((100, 1, 0.01)):\n",
    "    # turn down tolerance for short training time\n",
    "    clf_l1_LR = LogisticRegression(C=C, penalty='l1', tol=0.01)\n",
    "    clf_l2_LR = LogisticRegression(C=C, penalty='l2', tol=0.01)\n",
    "    clf_l1_LR.fit(X, y)\n",
    "    clf_l2_LR.fit(X, y)\n",
    "\n",
    "    coef_l1_LR = clf_l1_LR.coef_.ravel()\n",
    "    coef_l2_LR = clf_l2_LR.coef_.ravel()\n",
    "\n",
    "    # coef_l1_LR contains zeros due to the\n",
    "    # L1 sparsity inducing norm\n",
    "\n",
    "    sparsity_l1_LR = np.mean(coef_l1_LR == 0) * 100\n",
    "    sparsity_l2_LR = np.mean(coef_l2_LR == 0) * 100\n",
    "\n",
    "    print(\"C=%.2f\" % C)\n",
    "    print(\"Sparsity with L1 penalty: %.2f%%\" % sparsity_l1_LR)\n",
    "    print(\"score with L1 penalty: %.4f\" % clf_l1_LR.score(X, y))\n",
    "    print(\"Sparsity with L2 penalty: %.2f%%\" % sparsity_l2_LR)\n",
    "    print(\"score with L2 penalty: %.4f\" % clf_l2_LR.score(X, y))\n",
    "\n",
    "    l1_plot = plt.subplot(3, 2, 2 * i + 1)\n",
    "    l2_plot = plt.subplot(3, 2, 2 * (i + 1))\n",
    "    if i == 0:\n",
    "        l1_plot.set_title(\"L1 penalty\")\n",
    "        l2_plot.set_title(\"L2 penalty\")\n",
    "\n",
    "    l1_plot.imshow(np.abs(coef_l1_LR.reshape(8, 8)), interpolation='nearest',\n",
    "                   cmap='binary', vmax=1, vmin=0)\n",
    "    l2_plot.imshow(np.abs(coef_l2_LR.reshape(8, 8)), interpolation='nearest',\n",
    "                   cmap='binary', vmax=1, vmin=0)\n",
    "    plt.text(-8, 3, \"C = %.2f\" % C)\n",
    "\n",
    "    l1_plot.set_xticks(())\n",
    "    l1_plot.set_yticks(())\n",
    "    l2_plot.set_xticks(())\n",
    "    l2_plot.set_yticks(())\n",
    "\n",
    "plt.show()"
   ]
  },
  {
   "cell_type": "code",
   "execution_count": 4,
   "metadata": {
    "collapsed": false,
    "scrolled": true
   },
   "outputs": [
    {
     "name": "stdout",
     "output_type": "stream",
     "text": [
      "[[ 1  0  1  0  0  1]\n",
      " [ 1  2  3  4  6  9]\n",
      " [ 1  4  5 16 20 25]]\n",
      "[[0 1]\n",
      " [2 3]\n",
      " [4 5]]\n"
     ]
    }
   ],
   "source": [
    "# Polynomial Regression\n",
    "from sklearn.preprocessing import PolynomialFeatures\n",
    "import numpy as np\n",
    "X = np.arange(6).reshape(3, 2)\n",
    "poly = PolynomialFeatures(degree=2) \n",
    "print(poly.fit_transform(X))\n",
    "print(X)"
   ]
  },
  {
   "cell_type": "markdown",
   "metadata": {
    "collapsed": true
   },
   "source": [
    "The features of X have been transformed from $[x_1, x_2]$ to $[1, x_1, x_2, x_1^2, x_1 x_2, x_2^2]$, and can now be used within any linear model.\n",
    "\n",
    "This sort of preprocessing can be streamlined with the Pipeline tools. A single object representing a simple polynomial regression can be created and used as follows:"
   ]
  },
  {
   "cell_type": "code",
   "execution_count": 6,
   "metadata": {
    "collapsed": false
   },
   "outputs": [
    {
     "data": {
      "text/plain": [
       "array([ 3., -2.,  1., -1.])"
      ]
     },
     "execution_count": 6,
     "metadata": {},
     "output_type": "execute_result"
    }
   ],
   "source": [
    "# Polynomial regression with pipeline\n",
    "from sklearn.preprocessing import PolynomialFeatures\n",
    "from sklearn.linear_model import LinearRegression\n",
    "from sklearn.pipeline import Pipeline\n",
    "model = Pipeline([('poly', PolynomialFeatures(degree=3)),\n",
    "                  ('linear', LinearRegression(fit_intercept=False))])\n",
    "# fit to an order-3 polynomial data\n",
    "x = np.arange(5)\n",
    "y = 3 - 2 * x + x ** 2 - x ** 3\n",
    "model = model.fit(x[:, np.newaxis], y)\n",
    "model.named_steps['linear'].coef_"
   ]
  },
  {
   "cell_type": "code",
   "execution_count": 18,
   "metadata": {
    "collapsed": false
   },
   "outputs": [
    {
     "data": {
      "text/plain": [
       "array([1, 1], dtype=int32)"
      ]
     },
     "execution_count": 18,
     "metadata": {},
     "output_type": "execute_result"
    }
   ],
   "source": [
    "# SVM classification\n",
    "from sklearn import svm\n",
    "X = [[0, 0], [1, 1]]\n",
    "y = [0, 1]\n",
    "clf = svm.SVC()\n",
    "clf.fit(X, y) \n",
    "clf.predict([[2., 2.]])\n",
    "# get support vectors\n",
    "clf.support_vectors_\n",
    "# get indices of support vectors\n",
    "clf.support_ \n",
    "# get number of support vectors for each class\n",
    "clf.n_support_ "
   ]
  },
  {
   "cell_type": "code",
   "execution_count": 19,
   "metadata": {
    "collapsed": false
   },
   "outputs": [
    {
     "data": {
      "image/png": "[encoded data removed]",
      "text/plain": [
       "<matplotlib.figure.Figure at 0x112541450>"
      ]
     },
     "metadata": {},
     "output_type": "display_data"
    }
   ],
   "source": [
    "# SVM Weighted samples\n",
    "import numpy as np\n",
    "import matplotlib.pyplot as plt\n",
    "from sklearn import svm\n",
    "\n",
    "\n",
    "def plot_decision_function(classifier, sample_weight, axis, title):\n",
    "    # plot the decision function\n",
    "    xx, yy = np.meshgrid(np.linspace(-4, 5, 500), np.linspace(-4, 5, 500))\n",
    "\n",
    "    Z = classifier.decision_function(np.c_[xx.ravel(), yy.ravel()])\n",
    "    Z = Z.reshape(xx.shape)\n",
    "\n",
    "    # plot the line, the points, and the nearest vectors to the plane\n",
    "    axis.contourf(xx, yy, Z, alpha=0.75, cmap=plt.cm.bone)\n",
    "    axis.scatter(X[:, 0], X[:, 1], c=Y, s=100 * sample_weight, alpha=0.9,\n",
    "                 cmap=plt.cm.bone)\n",
    "\n",
    "    axis.axis('off')\n",
    "    axis.set_title(title)\n",
    "\n",
    "\n",
    "# we create 20 points\n",
    "np.random.seed(0)\n",
    "X = np.r_[np.random.randn(10, 2) + [1, 1], np.random.randn(10, 2)]\n",
    "Y = [1] * 10 + [-1] * 10\n",
    "sample_weight_last_ten = abs(np.random.randn(len(X)))\n",
    "sample_weight_constant = np.ones(len(X))\n",
    "# and bigger weights to some outliers\n",
    "sample_weight_last_ten[15:] *= 5\n",
    "sample_weight_last_ten[9] *= 15\n",
    "\n",
    "# for reference, first fit without class weights\n",
    "\n",
    "# fit the model\n",
    "clf_weights = svm.SVC()\n",
    "clf_weights.fit(X, Y, sample_weight=sample_weight_last_ten)\n",
    "\n",
    "clf_no_weights = svm.SVC()\n",
    "clf_no_weights.fit(X, Y)\n",
    "\n",
    "fig, axes = plt.subplots(1, 2, figsize=(14, 6))\n",
    "plot_decision_function(clf_no_weights, sample_weight_constant, axes[0],\n",
    "                       \"Constant weights\")\n",
    "plot_decision_function(clf_weights, sample_weight_last_ten, axes[1],\n",
    "                       \"Modified weights\")\n",
    "\n",
    "plt.show()"
   ]
  },
  {
   "cell_type": "code",
   "execution_count": null,
   "metadata": {
    "collapsed": true
   },
   "outputs": [],
   "source": []
  },
  {
   "cell_type": "code",
   "execution_count": null,
   "metadata": {
    "collapsed": true
   },
   "outputs": [],
   "source": []
  },
  {
   "cell_type": "code",
   "execution_count": null,
   "metadata": {
    "collapsed": true
   },
   "outputs": [],
   "source": []
  },
  {
   "cell_type": "code",
   "execution_count": null,
   "metadata": {
    "collapsed": true
   },
   "outputs": [],
   "source": []
  },
  {
   "cell_type": "code",
   "execution_count": null,
   "metadata": {
    "collapsed": true
   },
   "outputs": [],
   "source": []
  }
 ],
 "metadata": {
  "kernelspec": {
   "display_name": "Python 2",
   "language": "python",
   "name": "python2"
  },
  "language_info": {
   "codemirror_mode": {
    "name": "ipython",
    "version": 2
   },
   "file_extension": ".py",
   "mimetype": "text/x-python",
   "name": "python",
   "nbconvert_exporter": "python",
   "pygments_lexer": "ipython2",
   "version": "2.7.10"
  }
 },
 "nbformat": 4,
 "nbformat_minor": 0
}
